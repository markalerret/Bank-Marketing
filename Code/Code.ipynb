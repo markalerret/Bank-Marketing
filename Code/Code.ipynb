{
 "cells": [
  {
   "cell_type": "code",
   "execution_count": 1,
   "id": "01ddf4b7",
   "metadata": {},
   "outputs": [
    {
     "name": "stdout",
     "output_type": "stream",
     "text": [
      "           name     role         type      demographic  \\\n",
      "0           age  Feature      Integer              Age   \n",
      "1           job  Feature  Categorical       Occupation   \n",
      "2       marital  Feature  Categorical   Marital Status   \n",
      "3     education  Feature  Categorical  Education Level   \n",
      "4       default  Feature       Binary             None   \n",
      "5       balance  Feature      Integer             None   \n",
      "6       housing  Feature       Binary             None   \n",
      "7          loan  Feature       Binary             None   \n",
      "8       contact  Feature  Categorical             None   \n",
      "9   day_of_week  Feature         Date             None   \n",
      "10        month  Feature         Date             None   \n",
      "11     duration  Feature      Integer             None   \n",
      "12     campaign  Feature      Integer             None   \n",
      "13        pdays  Feature      Integer             None   \n",
      "14     previous  Feature      Integer             None   \n",
      "15     poutcome  Feature  Categorical             None   \n",
      "16            y   Target       Binary             None   \n",
      "\n",
      "                                          description  units missing_values  \n",
      "0                                                None   None             no  \n",
      "1   type of job (categorical: 'admin.','blue-colla...   None             no  \n",
      "2   marital status (categorical: 'divorced','marri...   None             no  \n",
      "3   (categorical: 'basic.4y','basic.6y','basic.9y'...   None             no  \n",
      "4                              has credit in default?   None             no  \n",
      "5                              average yearly balance  euros             no  \n",
      "6                                   has housing loan?   None             no  \n",
      "7                                  has personal loan?   None             no  \n",
      "8   contact communication type (categorical: 'cell...   None            yes  \n",
      "9                        last contact day of the week   None             no  \n",
      "10  last contact month of year (categorical: 'jan'...   None             no  \n",
      "11   last contact duration, in seconds (numeric). ...   None             no  \n",
      "12  number of contacts performed during this campa...   None             no  \n",
      "13  number of days that passed by after the client...   None            yes  \n",
      "14  number of contacts performed before this campa...   None             no  \n",
      "15  outcome of the previous marketing campaign (ca...   None            yes  \n",
      "16          has the client subscribed a term deposit?   None             no  \n"
     ]
    }
   ],
   "source": [
    "from ucimlrepo import fetch_ucirepo\n",
    "import pandas as pd\n",
    "import numpy as np\n",
    "from sklearn.linear_model import LogisticRegression\n",
    "import matplotlib.pyplot as plt\n",
    "import seaborn as sns\n",
    "import warnings as wr\n",
    "wr.filterwarnings('ignore')\n",
    "  \n",
    "# fetch dataset \n",
    "bank_marketing = fetch_ucirepo(id=222)\n",
    "  \n",
    "# data (as pandas dataframes) \n",
    "X = bank_marketing.data.features \n",
    "y = bank_marketing.data.targets\n",
    "\n",
    "# metadata \n",
    "#print(bank_marketing.metadata) \n",
    "  \n",
    "# variable information \n",
    "print(bank_marketing.variables)"
   ]
  },
  {
   "cell_type": "code",
   "execution_count": 2,
   "id": "7a391589",
   "metadata": {},
   "outputs": [],
   "source": [
    "#Changing 'yes' 'no' to 1 0 in y\n",
    "y = y.replace({'y': {'yes': 1, 'no': 0}})\n",
    "\n",
    "#Only includes numerical features\n",
    "X_num = X.select_dtypes(include=np.number)"
   ]
  },
  {
   "cell_type": "code",
   "execution_count": 3,
   "id": "da5c67b1",
   "metadata": {},
   "outputs": [],
   "source": [
    "from sklearn.model_selection import train_test_split\n",
    "\n",
    "# Separate data into training and validation sets\n",
    "X_train, X_valid, y_train, y_valid = train_test_split(X_num, y, test_size=0.2, random_state=16)"
   ]
  },
  {
   "cell_type": "markdown",
   "id": "211879da",
   "metadata": {},
   "source": [
    "## Simple MAE of LogReg"
   ]
  },
  {
   "cell_type": "code",
   "execution_count": 4,
   "id": "a7f9a9c0",
   "metadata": {},
   "outputs": [],
   "source": [
    "from sklearn.metrics import mean_absolute_error\n",
    "\n",
    "# function for comparing different approaches\n",
    "def score_dataset(X_train, X_valid, y_train, y_valid):\n",
    "    model = LogisticRegression(random_state=0)\n",
    "    model.fit(X_train, y_train)\n",
    "    preds = model.predict(X_valid)\n",
    "    return mean_absolute_error(y_valid, preds)"
   ]
  },
  {
   "cell_type": "code",
   "execution_count": 5,
   "id": "435364da",
   "metadata": {},
   "outputs": [
    {
     "data": {
      "text/plain": [
       "0.11544841313723322"
      ]
     },
     "execution_count": 5,
     "metadata": {},
     "output_type": "execute_result"
    }
   ],
   "source": [
    "score_dataset(X_train, X_valid, y_train, y_valid)"
   ]
  },
  {
   "cell_type": "markdown",
   "id": "607df5a0",
   "metadata": {},
   "source": [
    "## Creating ROC Curve"
   ]
  },
  {
   "cell_type": "code",
   "execution_count": 6,
   "id": "58b90d6e",
   "metadata": {},
   "outputs": [],
   "source": [
    "# instantiate the model (using the default parameters)\n",
    "logreg = LogisticRegression(random_state=16)\n",
    "\n",
    "# fit the model with data\n",
    "logreg.fit(X_train, y_train)\n",
    "\n",
    "y_pred = logreg.predict(X_valid)"
   ]
  },
  {
   "cell_type": "code",
   "execution_count": 7,
   "id": "859952b9",
   "metadata": {},
   "outputs": [
    {
     "data": {
      "text/plain": [
       "array([[7842,  100],\n",
       "       [ 944,  157]], dtype=int64)"
      ]
     },
     "execution_count": 7,
     "metadata": {},
     "output_type": "execute_result"
    }
   ],
   "source": [
    "# import the metrics class\n",
    "from sklearn import metrics\n",
    "\n",
    "cnf_matrix = metrics.confusion_matrix(y_valid, y_pred)\n",
    "cnf_matrix"
   ]
  },
  {
   "cell_type": "code",
   "execution_count": 8,
   "id": "661d9e2b",
   "metadata": {},
   "outputs": [
    {
     "data": {
      "text/plain": [
       "Text(0.5, 427.9555555555555, 'Predicted label')"
      ]
     },
     "execution_count": 8,
     "metadata": {},
     "output_type": "execute_result"
    },
    {
     "data": {
      "image/png": "[encoded data removed]",
      "text/plain": [
       "<Figure size 640x480 with 2 Axes>"
      ]
     },
     "metadata": {},
     "output_type": "display_data"
    }
   ],
   "source": [
    "class_names=[0,1] # name  of classes\n",
    "fig, ax = plt.subplots()\n",
    "tick_marks = np.arange(len(class_names))\n",
    "plt.xticks(tick_marks, class_names)\n",
    "plt.yticks(tick_marks, class_names)\n",
    "# create heatmap\n",
    "sns.heatmap(pd.DataFrame(cnf_matrix), annot=True, cmap=\"YlGnBu\" ,fmt='g')\n",
    "ax.xaxis.set_label_position(\"top\")\n",
    "plt.tight_layout()\n",
    "plt.title('Confusion matrix', y=1.1)\n",
    "plt.ylabel('Actual label')\n",
    "plt.xlabel('Predicted label')\n",
    "\n",
    "#Text(0.5,257.44,'Predicted label');"
   ]
  },
  {
   "cell_type": "code",
   "execution_count": 9,
   "id": "7eaaff0b",
   "metadata": {},
   "outputs": [
    {
     "name": "stdout",
     "output_type": "stream",
     "text": [
      "                   precision    recall  f1-score   support\n",
      "\n",
      "did not subscribe       0.89      0.99      0.94      7942\n",
      "       subscribed       0.61      0.14      0.23      1101\n",
      "\n",
      "         accuracy                           0.88      9043\n",
      "        macro avg       0.75      0.57      0.58      9043\n",
      "     weighted avg       0.86      0.88      0.85      9043\n",
      "\n"
     ]
    }
   ],
   "source": [
    "from sklearn.metrics import classification_report\n",
    "target_names = ['did not subscribe', 'subscribed']\n",
    "print(classification_report(y_valid, y_pred, target_names=target_names))"
   ]
  },
  {
   "cell_type": "code",
   "execution_count": 10,
   "id": "0c5cf566",
   "metadata": {},
   "outputs": [],
   "source": [
    "lr_probs = logreg.predict_proba(X_valid)\n",
    "lr_probs = lr_probs[:, 1]"
   ]
  },
  {
   "cell_type": "code",
   "execution_count": 11,
   "id": "a01c40d8",
   "metadata": {},
   "outputs": [],
   "source": [
    "from sklearn.metrics import roc_curve, roc_auc_score"
   ]
  },
  {
   "cell_type": "code",
   "execution_count": 12,
   "id": "792291f0",
   "metadata": {},
   "outputs": [],
   "source": [
    "lr_auc = roc_auc_score(y_valid, lr_probs)"
   ]
  },
  {
   "cell_type": "code",
   "execution_count": 13,
   "id": "abccff45",
   "metadata": {},
   "outputs": [
    {
     "name": "stdout",
     "output_type": "stream",
     "text": [
      "Logistic Regression Prediction: AUROC = 0.764\n"
     ]
    }
   ],
   "source": [
    "print(\"Logistic Regression Prediction: AUROC = %.3f\" % (lr_auc))"
   ]
  },
  {
   "cell_type": "code",
   "execution_count": 14,
   "id": "9726122c",
   "metadata": {},
   "outputs": [],
   "source": [
    "lr_fpr, lr_tpr, thresholds = roc_curve(y_valid, lr_probs)"
   ]
  },
  {
   "cell_type": "code",
   "execution_count": 15,
   "id": "1545a891",
   "metadata": {},
   "outputs": [
    {
     "data": {
      "image/png": "[encoded data removed]",
      "text/plain": [
       "<Figure size 640x480 with 1 Axes>"
      ]
     },
     "metadata": {},
     "output_type": "display_data"
    }
   ],
   "source": [
    "plt.plot(lr_fpr, lr_tpr, label = 'LogReg Prediction')\n",
    "\n",
    "#Title\n",
    "plt.title('ROC Plot')\n",
    "#Axis Labels\n",
    "plt.ylabel('True Positive Rate')\n",
    "plt.xlabel('False Positive Rate')\n",
    "#Plot Limits\n",
    "plt.xlim([-0.02, 1])\n",
    "plt.ylim([0, 1.02])\n",
    "#Show Random\n",
    "plt.plot([0, 1], [0, 1],'r--',label='Random')\n",
    "#Show Legend\n",
    "plt.legend()\n",
    "#Show Plot\n",
    "plt.show()"
   ]
  },
  {
   "cell_type": "code",
   "execution_count": 16,
   "id": "23c5c388",
   "metadata": {},
   "outputs": [
    {
     "name": "stdout",
     "output_type": "stream",
     "text": [
      "['job', 'marital', 'education', 'default', 'housing', 'loan', 'contact', 'month', 'poutcome']\n"
     ]
    }
   ],
   "source": [
    "#Preprocessing\n",
    "from sklearn.preprocessing import OneHotEncoder\n",
    "\n",
    "s = (X.dtypes == 'object')\n",
    "object_cols = list(s[s].index)\n",
    "\n",
    "print(object_cols)"
   ]
  },
  {
   "cell_type": "code",
   "execution_count": null,
   "id": "33cc30de",
   "metadata": {},
   "outputs": [],
   "source": []
  }
 ],
 "metadata": {
  "kernelspec": {
   "display_name": "Python 3 (ipykernel)",
   "language": "python",
   "name": "python3"
  },
  "language_info": {
   "codemirror_mode": {
    "name": "ipython",
    "version": 3
   },
   "file_extension": ".py",
   "mimetype": "text/x-python",
   "name": "python",
   "nbconvert_exporter": "python",
   "pygments_lexer": "ipython3",
   "version": "3.11.5"
  }
 },
 "nbformat": 4,
 "nbformat_minor": 5
}
